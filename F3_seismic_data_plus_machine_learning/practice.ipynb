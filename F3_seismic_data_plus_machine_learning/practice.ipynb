{
 "cells": [
  {
   "cell_type": "code",
   "execution_count": 1,
   "metadata": {
    "collapsed": false
   },
   "outputs": [
    {
     "name": "stdout",
     "output_type": "stream",
     "text": [
      "(0, 4)\n"
     ]
    }
   ],
   "source": [
    "import numpy as np\n",
    "addr = np.empty([0,4], dtype=np.int32)\n",
    "print(addr.shape)"
   ]
  },
  {
   "cell_type": "code",
   "execution_count": 2,
   "metadata": {
    "collapsed": false
   },
   "outputs": [
    {
     "name": "stdout",
     "output_type": "stream",
     "text": [
      "(4,)\n",
      "(1, 4)\n"
     ]
    }
   ],
   "source": [
    "addr0 = np.empty([4], dtype=np.int32)\n",
    "print(addr0.shape)\n",
    "addr1 = np.expand_dims(addr0, axis=0)\n",
    "print(addr1.shape)"
   ]
  },
  {
   "cell_type": "code",
   "execution_count": 6,
   "metadata": {
    "collapsed": false
   },
   "outputs": [
    {
     "name": "stdout",
     "output_type": "stream",
     "text": [
      "[[1]\n",
      " [1]\n",
      " [1]\n",
      " [1]\n",
      " [1]]\n",
      "[[2]\n",
      " [2]\n",
      " [2]\n",
      " [2]\n",
      " [2]]\n",
      "[[2]\n",
      " [2]\n",
      " [2]\n",
      " [2]\n",
      " [2]]\n"
     ]
    }
   ],
   "source": [
    "aa=np.ones((5, 1), dtype=np.int32)\n",
    "print(aa)\n",
    "print(2*aa)\n",
    "print(aa*2)"
   ]
  },
  {
   "cell_type": "code",
   "execution_count": 1,
   "metadata": {
    "collapsed": false
   },
   "outputs": [
    {
     "name": "stdout",
     "output_type": "stream",
     "text": [
      "[[1. 2.]\n",
      " [3. 4.]]\n"
     ]
    }
   ],
   "source": [
    "import numpy as np\n",
    "from io import StringIO\n",
    "c=StringIO(' 1 2\\n 3 4')\n",
    "a=np.loadtxt(c)\n",
    "print(a)"
   ]
  },
  {
   "cell_type": "code",
   "execution_count": 3,
   "metadata": {
    "collapsed": false
   },
   "outputs": [
    {
     "name": "stdout",
     "output_type": "stream",
     "text": [
      "(20070, 3)\n"
     ]
    }
   ],
   "source": [
    "import numpy as np\n",
    "import os\n",
    "\n",
    "file_list = ['multi_else_ilxl.pts','multi_grizzly_ilxl.pts',\n",
    "             'multi_high_amp_continuous_ilxl.pts',\n",
    "             'multi_high_amplitude_ilxl.pts','multi_low_amp_dips_ilxl.pts',\n",
    "             'multi_low_amplitude_ilxl.pts','multi_low_coherency_ilxl.pts',\n",
    "             'multi_salt_ilxl.pts','multi_steep_dips_ilxl.pts']\n",
    "\n",
    "# dir for classification data\n",
    "classification_data_dir = 'F3_classification_data'\n",
    "# actual classification data file names\n",
    "files_with_dir=[]\n",
    "for file in file_list:\n",
    "    files_with_dir.append(os.path.join(classification_data_dir, file))\n",
    "file_list = files_with_dir\n",
    "\n",
    "#\n",
    "aa = np.loadtxt(file_list[0], skiprows=0, usecols = range(3), dtype = np.float32)\n",
    "print(aa.shape)"
   ]
  },
  {
   "cell_type": "code",
   "execution_count": 17,
   "metadata": {
    "collapsed": false
   },
   "outputs": [
    {
     "name": "stdout",
     "output_type": "stream",
     "text": [
      "[339. 330. 716.]\n",
      "20070\n",
      "(20070, 1)\n"
     ]
    }
   ],
   "source": [
    "print(aa[0])\n",
    "print(len(aa))\n",
    "cc = np.ones((len(aa),1),dtype = np.int32)\n",
    "print(cc.shape)"
   ]
  },
  {
   "cell_type": "code",
   "execution_count": 18,
   "metadata": {
    "collapsed": false
   },
   "outputs": [
    {
     "name": "stdout",
     "output_type": "stream",
     "text": [
      "[339. 330. 716.]\n",
      "[339. 330. 712.]\n",
      "(20070, 4)\n",
      "[339. 330. 716.   2.]\n",
      "[339. 330. 712.   2.]\n"
     ]
    }
   ],
   "source": [
    "print(aa[0])\n",
    "print(aa[1])\n",
    "\n",
    "#\n",
    "i = 2\n",
    "\n",
    "#\n",
    "bb = np.append(aa,i*cc,axis=1)\n",
    "print(bb.shape)\n",
    "print(bb[0])\n",
    "print(bb[1])"
   ]
  },
  {
   "cell_type": "code",
   "execution_count": 19,
   "metadata": {
    "collapsed": false
   },
   "outputs": [
    {
     "name": "stdout",
     "output_type": "stream",
     "text": [
      "(20070, 4)\n",
      "[339. 330. 716.   2.]\n",
      "[339. 330. 712.   2.]\n"
     ]
    }
   ],
   "source": [
    "#\n",
    "adr_list = np.empty([0,4], dtype = np.int32)\n",
    "#\n",
    "adr_list = np.append(adr_list, bb ,axis=0)\n",
    "print(adr_list.shape)\n",
    "print(adr_list[0])\n",
    "print(adr_list[1])"
   ]
  },
  {
   "cell_type": "code",
   "execution_count": 20,
   "metadata": {
    "collapsed": false
   },
   "outputs": [
    {
     "name": "stdout",
     "output_type": "stream",
     "text": [
      "(9,)\n",
      "[1. 1. 1. 1. 1. 1. 1. 2. 2.]\n"
     ]
    }
   ],
   "source": [
    "#\n",
    "ex_adjust = True\n",
    "\n",
    "# Make an array of that holds the number of each example provided, if equalization is needed\n",
    "if ex_adjust:\n",
    "    len_array = np.zeros(len(file_list),dtype = np.float32)\n",
    "    for i in range(len(file_list)):\n",
    "        len_array[i] = len(np.loadtxt(file_list[i], skiprows=0, usecols = range(3), dtype = np.float32))\n",
    "\n",
    "    # Cnvert this array to a multiplier that determines how many times a given class set needs to be\n",
    "    len_array /= max(len_array)\n",
    "    multiplier = 1//len_array\n",
    "#\n",
    "print(multiplier.shape)\n",
    "print(multiplier)"
   ]
  },
  {
   "cell_type": "code",
   "execution_count": null,
   "metadata": {
    "collapsed": true
   },
   "outputs": [],
   "source": [
    "# preallocate space for the adr_list, the output containing all the adresses and classes\n",
    "adr_list = np.empty([0,4], dtype = np.int32)\n",
    "\n",
    "# Itterate through the list of example adresses and store the class as an integer\n",
    "for i in range(len(file_list)):\n",
    "    a = np.loadtxt(file_list[i], skiprows=0, usecols = range(3), dtype = np.int32)\n",
    "    adr_list = np.append(adr_list,np.append(a,i*np.ones((len(a),1),dtype = np.int32),axis=1),axis=0)\n",
    "\n",
    "    # If desired copy the entire list by the multiplier calculated\n",
    "    if ex_adjust:\n",
    "        for k in range(int(multiplier[i])-1):\n",
    "            adr_list = np.append(adr_list,np.append(a,i*np.ones((len(a),1),dtype = np.int32),axis=1),axis=0)"
   ]
  },
  {
   "cell_type": "code",
   "execution_count": 21,
   "metadata": {
    "collapsed": false
   },
   "outputs": [
    {
     "name": "stdout",
     "output_type": "stream",
     "text": [
      "(2, 3, 4)\n",
      "3\n"
     ]
    }
   ],
   "source": [
    "y = np.zeros((2, 3, 4))\n",
    "print(y.shape)\n",
    "print(y.shape[1])"
   ]
  }
 ],
 "metadata": {
  "kernelspec": {
   "display_name": "Python 3",
   "language": "python",
   "name": "python3"
  },
  "language_info": {
   "codemirror_mode": {
    "name": "ipython",
    "version": 3
   },
   "file_extension": ".py",
   "mimetype": "text/x-python",
   "name": "python",
   "nbconvert_exporter": "python",
   "pygments_lexer": "ipython3",
   "version": "3.5.2"
  }
 },
 "nbformat": 4,
 "nbformat_minor": 0
}
